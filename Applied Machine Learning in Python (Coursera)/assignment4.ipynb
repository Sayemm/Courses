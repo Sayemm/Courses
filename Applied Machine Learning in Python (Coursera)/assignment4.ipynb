{
 "cells": [
  {
   "cell_type": "code",
   "execution_count": null,
   "metadata": {},
   "outputs": [],
   "source": [
    "import pandas as pd\n",
    "import numpy as np\n",
    "import math\n",
    "from sklearn.ensemble import RandomForestClassifier\n",
    "from sklearn.model_selection import train_test_split\n",
    "from sklearn.metrics import roc_auc_score\n",
    "from sklearn.metrics import roc_curve, auc\n",
    "from sklearn.preprocessing import LabelEncoder\n",
    "from sklearn.model_selection import GridSearchCV\n",
    "\n",
    "def blight_model():\n",
    "    \n",
    "    df_train = pd.read_csv('train.csv', encoding = \"ISO-8859-1\")\n",
    "    df_test = pd.read_csv('test.csv',encoding='ISO-8859-1')\n",
    "    \n",
    "    df_train.index = df_train['ticket_id']\n",
    "    df_test.index = df_test['ticket_id']\n",
    "    \n",
    "    features_name = ['fine_amount', 'admin_fee', 'state_fee', 'late_fee']\n",
    "    \n",
    "    df_train.compliance = df_train.compliance.fillna(value=-1)\n",
    "    df_train = df_train[df_train.compliance != -1]\n",
    "    \n",
    "    X = df_train[features_name]\n",
    "    X.fillna(value = -1)\n",
    "    \n",
    "    y = df_train.compliance\n",
    "    \n",
    "    X_train, X_test, y_train, y_test = train_test_split(X, y, random_state = 0)\n",
    "    \n",
    "    clf = RandomForestClassifier(n_estimators = 10, max_depth = 5).fit(X_train, y_train)\n",
    "    \n",
    "    X_predict = clf.predict_proba(df_test[features_name])\n",
    "    \n",
    "    ans = pd.Series(data = X_predict[:,1], index = df_test['ticket_id'], dtype='float32')\n",
    "    \n",
    "    return ans\n",
    "\n",
    "blight_model()"
   ]
  }
 ],
 "metadata": {
  "kernelspec": {
   "display_name": "Python 3",
   "language": "python",
   "name": "python3"
  },
  "language_info": {
   "codemirror_mode": {
    "name": "ipython",
    "version": 3
   },
   "file_extension": ".py",
   "mimetype": "text/x-python",
   "name": "python",
   "nbconvert_exporter": "python",
   "pygments_lexer": "ipython3",
   "version": "3.7.4"
  }
 },
 "nbformat": 4,
 "nbformat_minor": 2
}
