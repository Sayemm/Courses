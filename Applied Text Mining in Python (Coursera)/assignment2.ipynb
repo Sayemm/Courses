{
 "cells": [
  {
   "cell_type": "code",
   "execution_count": 2,
   "metadata": {},
   "outputs": [],
   "source": [
    "import nltk"
   ]
  },
  {
   "cell_type": "code",
   "execution_count": 4,
   "metadata": {},
   "outputs": [],
   "source": [
    "import nltk\n",
    "import pandas as pd\n",
    "import numpy as np\n",
    "\n",
    "# If you would like to work with the raw text you can use 'moby_raw'\n",
    "with open('moby.txt', 'r') as f:\n",
    "    moby_raw = f.read()\n",
    "    \n",
    "# If you would like to work with the novel in nltk.Text format you can use 'text1'\n",
    "moby_tokens = nltk.word_tokenize(moby_raw)\n",
    "text1 = nltk.Text(moby_tokens)\n",
    "\n",
    "# print(moby_raw)"
   ]
  },
  {
   "cell_type": "code",
   "execution_count": 8,
   "metadata": {},
   "outputs": [
    {
     "data": {
      "text/plain": [
       "255018"
      ]
     },
     "execution_count": 8,
     "metadata": {},
     "output_type": "execute_result"
    }
   ],
   "source": [
    "def example_one():\n",
    "    \n",
    "#     return len(nltk.word_tokenize(moby_raw)) # or alternatively len(text1)\n",
    "    return len(moby_tokens)\n",
    "\n",
    "example_one()"
   ]
  },
  {
   "cell_type": "code",
   "execution_count": 9,
   "metadata": {},
   "outputs": [
    {
     "data": {
      "text/plain": [
       "20754"
      ]
     },
     "execution_count": 9,
     "metadata": {},
     "output_type": "execute_result"
    }
   ],
   "source": [
    "def example_two():\n",
    "    \n",
    "#     return len(set(nltk.word_tokenize(moby_raw))) # or alternatively len(set(text1))\n",
    "    return len(set(moby_tokens))\n",
    "\n",
    "example_two()"
   ]
  },
  {
   "cell_type": "code",
   "execution_count": 10,
   "metadata": {},
   "outputs": [
    {
     "data": {
      "text/plain": [
       "16899"
      ]
     },
     "execution_count": 10,
     "metadata": {},
     "output_type": "execute_result"
    }
   ],
   "source": [
    "from nltk.stem import WordNetLemmatizer\n",
    "\n",
    "def example_three():\n",
    "\n",
    "    lemmatizer = WordNetLemmatizer()\n",
    "    lemmatized = [lemmatizer.lemmatize(w,'v') for w in text1]\n",
    "\n",
    "    return len(set(lemmatized))\n",
    "\n",
    "example_three()"
   ]
  },
  {
   "cell_type": "code",
   "execution_count": 11,
   "metadata": {},
   "outputs": [
    {
     "data": {
      "text/plain": [
       "0.08138249064771899"
      ]
     },
     "execution_count": 11,
     "metadata": {},
     "output_type": "execute_result"
    }
   ],
   "source": [
    "def answer_one():\n",
    "    \n",
    "    return len(set(moby_tokens)) / len(moby_tokens)\n",
    "\n",
    "answer_one()"
   ]
  },
  {
   "cell_type": "code",
   "execution_count": 12,
   "metadata": {},
   "outputs": [
    {
     "data": {
      "text/plain": [
       "0.4125199005560392"
      ]
     },
     "execution_count": 12,
     "metadata": {},
     "output_type": "execute_result"
    }
   ],
   "source": [
    "def answer_two():\n",
    "    cn = 0\n",
    "    \n",
    "    for w in moby_tokens:\n",
    "        if w=='whale' or w=='Whale':\n",
    "            cn+=1\n",
    "    \n",
    "    return (cn/len(moby_tokens))*100.0\n",
    "\n",
    "answer_two()"
   ]
  },
  {
   "cell_type": "code",
   "execution_count": 13,
   "metadata": {},
   "outputs": [
    {
     "data": {
      "text/plain": [
       "[(',', 19204),\n",
       " ('the', 13715),\n",
       " ('.', 7308),\n",
       " ('of', 6513),\n",
       " ('and', 6010),\n",
       " ('a', 4545),\n",
       " ('to', 4515),\n",
       " (';', 4173),\n",
       " ('in', 3908),\n",
       " ('that', 2978),\n",
       " ('his', 2459),\n",
       " ('it', 2196),\n",
       " ('I', 2111),\n",
       " ('!', 1767),\n",
       " ('is', 1722),\n",
       " ('--', 1713),\n",
       " ('with', 1659),\n",
       " ('he', 1658),\n",
       " ('was', 1639),\n",
       " ('as', 1620)]"
      ]
     },
     "execution_count": 13,
     "metadata": {},
     "output_type": "execute_result"
    }
   ],
   "source": [
    "def answer_three():\n",
    "    m = {}\n",
    "    l = []\n",
    "    cn = 0\n",
    "    \n",
    "    for w in moby_tokens:\n",
    "        m[w] = 0\n",
    "        \n",
    "    for w in moby_tokens:\n",
    "        m[w]+=1\n",
    "    \n",
    "    for k, v in sorted(m.items(), key = lambda item: item[1], reverse = True):\n",
    "        if cn==20: break\n",
    "        \n",
    "        l.append((k, v))\n",
    "        \n",
    "        cn += 1\n",
    "    \n",
    "    return l\n",
    "\n",
    "answer_three()"
   ]
  },
  {
   "cell_type": "code",
   "execution_count": 14,
   "metadata": {},
   "outputs": [
    {
     "data": {
      "text/plain": [
       "['Captain',\n",
       " 'Pequod',\n",
       " 'Queequeg',\n",
       " 'Starbuck',\n",
       " 'almost',\n",
       " 'before',\n",
       " 'himself',\n",
       " 'little',\n",
       " 'seemed',\n",
       " 'should',\n",
       " 'though',\n",
       " 'through',\n",
       " 'whales',\n",
       " 'without']"
      ]
     },
     "execution_count": 14,
     "metadata": {},
     "output_type": "execute_result"
    }
   ],
   "source": [
    "def answer_four():\n",
    "    m = {}\n",
    "    l = []\n",
    "    \n",
    "    for w in moby_tokens:\n",
    "        m[w] = 0\n",
    "        \n",
    "    for w in moby_tokens:\n",
    "        m[w]+=1\n",
    "        \n",
    "    for k, v in m.items():\n",
    "        if(len(k)>5 and m[k]>150):\n",
    "            l.append(k)\n",
    "            \n",
    "    l.sort()\n",
    "            \n",
    "    return l\n",
    "    \n",
    "answer_four()"
   ]
  },
  {
   "cell_type": "code",
   "execution_count": 15,
   "metadata": {},
   "outputs": [
    {
     "data": {
      "text/plain": [
       "(\"twelve-o'clock-at-night\", 23)"
      ]
     },
     "execution_count": 15,
     "metadata": {},
     "output_type": "execute_result"
    }
   ],
   "source": [
    "def answer_five():\n",
    "    word = \"\"\n",
    "    l = 0\n",
    "    \n",
    "    for w in moby_tokens:\n",
    "        if(len(w)>l):\n",
    "            l = len(w)\n",
    "            word = w\n",
    "            \n",
    "    return (word, l)\n",
    "\n",
    "answer_five()"
   ]
  },
  {
   "cell_type": "code",
   "execution_count": 16,
   "metadata": {},
   "outputs": [
    {
     "data": {
      "text/plain": [
       "[(13715, 'the'),\n",
       " (6513, 'of'),\n",
       " (6010, 'and'),\n",
       " (4545, 'a'),\n",
       " (4515, 'to'),\n",
       " (3908, 'in'),\n",
       " (2978, 'that'),\n",
       " (2459, 'his'),\n",
       " (2196, 'it'),\n",
       " (2111, 'I')]"
      ]
     },
     "execution_count": 16,
     "metadata": {},
     "output_type": "execute_result"
    }
   ],
   "source": [
    "def answer_six():\n",
    "    m = {}\n",
    "    l = []\n",
    "    cn = 0\n",
    "    \n",
    "    for w in moby_tokens:\n",
    "        m[w] = 0\n",
    "        \n",
    "    for w in moby_tokens:\n",
    "        m[w]+=1\n",
    "    \n",
    "    for k, v in sorted(m.items(), key = lambda item: item[1], reverse = True):\n",
    "        if(k.isalpha() and m[k]>2000):\n",
    "            l.append((v, k))\n",
    "            \n",
    "    return l\n",
    "\n",
    "answer_six()"
   ]
  },
  {
   "cell_type": "code",
   "execution_count": 17,
   "metadata": {},
   "outputs": [
    {
     "data": {
      "text/plain": [
       "25.88489646772229"
      ]
     },
     "execution_count": 17,
     "metadata": {},
     "output_type": "execute_result"
    }
   ],
   "source": [
    "def answer_seven():\n",
    "    sentences = nltk.sent_tokenize(moby_raw)\n",
    "    \n",
    "    return len(moby_tokens)/len(sentences)\n",
    "\n",
    "answer_seven()"
   ]
  },
  {
   "cell_type": "code",
   "execution_count": 18,
   "metadata": {},
   "outputs": [
    {
     "data": {
      "text/plain": [
       "[('NN', 32730), ('IN', 28658), ('DT', 25870), (',', 19204), ('JJ', 17619)]"
      ]
     },
     "execution_count": 18,
     "metadata": {},
     "output_type": "execute_result"
    }
   ],
   "source": [
    "def answer_eight():\n",
    "    ls = nltk.pos_tag(moby_tokens)\n",
    "        \n",
    "    m = {}\n",
    "    l = []\n",
    "    cn = 0\n",
    "    \n",
    "    for w, p in ls:\n",
    "        m[p] = 0\n",
    "        \n",
    "    for w, p in ls:\n",
    "        m[p]+=1\n",
    "    \n",
    "    for k, v in sorted(m.items(), key = lambda item: item[1], reverse = True):\n",
    "        if cn==5: break\n",
    "        \n",
    "        l.append((k, v))\n",
    "        \n",
    "        cn += 1\n",
    "            \n",
    "    return l\n",
    "\n",
    "answer_eight()"
   ]
  },
  {
   "cell_type": "code",
   "execution_count": 19,
   "metadata": {},
   "outputs": [],
   "source": [
    "from nltk.corpus import words\n",
    "\n",
    "correct_spellings = words.words()\n",
    "\n",
    "# len(correct_spellings)"
   ]
  },
  {
   "cell_type": "code",
   "execution_count": 20,
   "metadata": {},
   "outputs": [
    {
     "data": {
      "text/plain": [
       "['corpulent', 'indecence', 'validate']"
      ]
     },
     "execution_count": 20,
     "metadata": {},
     "output_type": "execute_result"
    }
   ],
   "source": [
    "def answer_nine(entries=['cormulent', 'incendenece', 'validrate']):\n",
    "    \n",
    "    from nltk.util import ngrams\n",
    "    \n",
    "    l = []\n",
    "    \n",
    "    for a in entries:\n",
    "        mn = 5\n",
    "        word = \"\"\n",
    "        for b in correct_spellings:\n",
    "            w1 = set(ngrams(a, 3))\n",
    "            w2 = set(ngrams(b, 3))\n",
    "            \n",
    "            d = nltk.jaccard_distance(w1, w2)\n",
    "            \n",
    "            if a[0]==b[0] and d < mn:\n",
    "                mn = d\n",
    "                word = b\n",
    "        l.append(word)\n",
    "        \n",
    "    return l\n",
    "    \n",
    "answer_nine()"
   ]
  },
  {
   "cell_type": "code",
   "execution_count": 21,
   "metadata": {},
   "outputs": [
    {
     "data": {
      "text/plain": [
       "['cormus', 'incendiary', 'valid']"
      ]
     },
     "execution_count": 21,
     "metadata": {},
     "output_type": "execute_result"
    }
   ],
   "source": [
    "def answer_ten(entries=['cormulent', 'incendenece', 'validrate']):\n",
    "    from nltk.util import ngrams\n",
    "    \n",
    "    l = []\n",
    "    \n",
    "    for a in entries:\n",
    "        mn = 5\n",
    "        word = \"\"\n",
    "        for b in correct_spellings:\n",
    "            w1 = set(ngrams(a, 4))\n",
    "            w2 = set(ngrams(b, 4))\n",
    "            \n",
    "            d = nltk.jaccard_distance(w1, w2)\n",
    "            \n",
    "            if a[0]==b[0] and d < mn:\n",
    "                mn = d\n",
    "                word = b\n",
    "        l.append(word)\n",
    "        \n",
    "    return l\n",
    "    \n",
    "answer_ten()"
   ]
  },
  {
   "cell_type": "code",
   "execution_count": 22,
   "metadata": {},
   "outputs": [
    {
     "data": {
      "text/plain": [
       "['corpulent', 'intendence', 'validate']"
      ]
     },
     "execution_count": 22,
     "metadata": {},
     "output_type": "execute_result"
    }
   ],
   "source": [
    "def answer_eleven(entries=['cormulent', 'incendenece', 'validrate']):\n",
    "    l = []\n",
    "    \n",
    "    for a in entries:\n",
    "        mn = 5\n",
    "        word = \"\"\n",
    "        for b in correct_spellings:  \n",
    "            d = nltk.edit_distance(a, b)\n",
    "            \n",
    "            if a[0]==b[0] and d < mn:\n",
    "                mn = d\n",
    "                word = b\n",
    "        l.append(word)\n",
    "        \n",
    "    return l\n",
    "    \n",
    "answer_eleven()"
   ]
  }
 ],
 "metadata": {
  "kernelspec": {
   "display_name": "Python 3",
   "language": "python",
   "name": "python3"
  },
  "language_info": {
   "codemirror_mode": {
    "name": "ipython",
    "version": 3
   },
   "file_extension": ".py",
   "mimetype": "text/x-python",
   "name": "python",
   "nbconvert_exporter": "python",
   "pygments_lexer": "ipython3",
   "version": "3.7.4"
  }
 },
 "nbformat": 4,
 "nbformat_minor": 2
}
